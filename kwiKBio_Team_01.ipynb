{
  "nbformat": 4,
  "nbformat_minor": 0,
  "metadata": {
    "colab": {
      "name": "kwiKBio_Team-01.ipynb",
      "version": "0.3.2",
      "provenance": [],
      "include_colab_link": true
    },
    "kernelspec": {
      "name": "python3",
      "display_name": "Python 3"
    }
  },
  "cells": [
    {
      "cell_type": "markdown",
      "metadata": {
        "id": "view-in-github",
        "colab_type": "text"
      },
      "source": [
        "<a href=\"https://colab.research.google.com/github/jjlancaster/ELF/blob/master/kwiKBio_Team_01.ipynb\" target=\"_parent\"><img src=\"https://colab.research.google.com/assets/colab-badge.svg\" alt=\"Open In Colab\"/></a>"
      ]
    },
    {
      "metadata": {
        "id": "y0MkeU9z7otL",
        "colab_type": "code",
        "colab": {}
      },
      "cell_type": "code",
      "source": [
        "\n"
      ],
      "execution_count": 0,
      "outputs": []
    },
    {
      "metadata": {
        "id": "IGPcAjKY8A6O",
        "colab_type": "text"
      },
      "cell_type": "markdown",
      "source": [
        "This is kwiKBio_Team-01 first notebook for colaboratory work."
      ]
    },
    {
      "metadata": {
        "id": "SRsg1bKJ795L",
        "colab_type": "text"
      },
      "cell_type": "markdown",
      "source": [
        "This is a Jupyter style \"notebook\" set inside Google Drive, that is able to run machine-learning operations.  Please go to https://colab.research.google.com to learn more and to get yourself into the colaboratory environment."
      ]
    },
    {
      "metadata": {
        "id": "Pcv6US8XFLCz",
        "colab_type": "code",
        "colab": {}
      },
      "cell_type": "code",
      "source": [
        ""
      ],
      "execution_count": 0,
      "outputs": []
    },
    {
      "metadata": {
        "id": "B7rrUi4gFNqK",
        "colab_type": "text"
      },
      "cell_type": "markdown",
      "source": [
        "Please also go to the kwiKBio DevOps GitHub pages, at https://github.com/kwikbio \n"
      ]
    },
    {
      "metadata": {
        "id": "Wd1d-4IZFW4-",
        "colab_type": "code",
        "colab": {}
      },
      "cell_type": "code",
      "source": [
        ""
      ],
      "execution_count": 0,
      "outputs": []
    }
  ]
}